{
 "cells": [
  {
   "cell_type": "markdown",
   "metadata": {},
   "source": [
    "Activity 3-B (Bonus activity!):\n",
    "-----------------------------\n",
    "\n",
    "No SQL this time- can you get $R\\cap(S\\cup T)$ via Python code?  _I.e. can you write a join in python??_\n",
    "\n",
    "Use **for loops** and the starter code below:"
   ]
  },
  {
   "cell_type": "code",
   "execution_count": 7,
   "metadata": {
    "collapsed": false
   },
   "outputs": [
    {
     "name": "stdout",
     "output_type": "stream",
     "text": [
      "[1, 3, 4, 5]\n"
     ]
    }
   ],
   "source": [
    "R = [1,2,3,4,5]\n",
    "S = [1,3,5,7,9]\n",
    "T = [1,4,7,10]\n",
    "# TODO - Write your code here:\n",
    "\n",
    "# S Union T\n",
    "ST = []\n",
    "for i in S:\n",
    "    ST.append(i)\n",
    "for i in T:\n",
    "    if i not in ST:\n",
    "        ST.append(i)\n",
    "#[1, 3, 5, 7, 9, 4, 10]\n",
    "\n",
    "# R intersect ST\n",
    "output = set()\n",
    "# assuming R is smaller than ST\n",
    "for i in R:\n",
    "    if i in ST:\n",
    "        output.add(i)\n",
    "\n",
    "print list(output)"
   ]
  },
  {
   "cell_type": "markdown",
   "metadata": {},
   "source": [
    "What about if $S$ is empty??"
   ]
  },
  {
   "cell_type": "markdown",
   "metadata": {
    "collapsed": true
   },
   "source": [
    "The entire result will be null, as the middle table is null.\n",
    "\n",
    "R x S x T = Output"
   ]
  },
  {
   "cell_type": "code",
   "execution_count": null,
   "metadata": {
    "collapsed": true
   },
   "outputs": [],
   "source": []
  }
 ],
 "metadata": {
  "kernelspec": {
   "display_name": "Python 2",
   "language": "python",
   "name": "python2"
  },
  "language_info": {
   "codemirror_mode": {
    "name": "ipython",
    "version": 2
   },
   "file_extension": ".py",
   "mimetype": "text/x-python",
   "name": "python",
   "nbconvert_exporter": "python",
   "pygments_lexer": "ipython2",
   "version": "2.7.10"
  }
 },
 "nbformat": 4,
 "nbformat_minor": 0
}
