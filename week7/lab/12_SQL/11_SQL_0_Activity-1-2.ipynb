{
 "cells": [
  {
   "cell_type": "markdown",
   "metadata": {},
   "source": [
    "When we want to work with SQL easily in an Ipython notebook, we'll load the ipython-sql [extension](https://github.com/catherinedevlin/ipython-sql) as follows:"
   ]
  },
  {
   "cell_type": "code",
   "execution_count": 1,
   "metadata": {
    "collapsed": false
   },
   "outputs": [],
   "source": [
    "%load_ext sql"
   ]
  },
  {
   "cell_type": "markdown",
   "metadata": {},
   "source": [
    "**Note:** Don't worry if you get (a) a big red-highlighted warning or (b) a note that the extension has already been loaded!  As long as your SQL commands work, it's loaded properly!\n",
    "\n",
    "Next, we'll load an SQLite database stored as a file as follows:\n",
    "\n",
    "**NOTE: in general, we load a file- for example, \"dataset_1.db\" here, which you'll use throughout the next few lectures + PS1- which must be in the same directory as the IPython Notebook for this to work.  Make sure to download it!**"
   ]
  },
  {
   "cell_type": "code",
   "execution_count": 2,
   "metadata": {
    "collapsed": false
   },
   "outputs": [
    {
     "data": {
      "text/plain": [
       "u'Connected: None@dataset_1.db'"
      ]
     },
     "execution_count": 2,
     "metadata": {},
     "output_type": "execute_result"
    }
   ],
   "source": [
    "%sql sqlite:///dataset_1.db"
   ]
  },
  {
   "cell_type": "markdown",
   "metadata": {},
   "source": [
    "Lets look at one table from the US National Oceanic and Atmospheric Administration (NOAA) Rainfall dataset- `precipitation_full`- having the following schema:\n",
    "\n",
    "> * `state_code`\n",
    "> * `station_id`\n",
    "> * `year`\n",
    "> * `month`\n",
    "> * `day`\n",
    "> * `hour`\n",
    "> * `precipitation`\n",
    "> * `flag_1`\n",
    "> * `flag_2`\n",
    "\n",
    "Each tuple in this table describes one hour of rainfall (`precipitation`- in hundredths of an inch) at one station (`station_id`) in one state (`state_code`).  Note that tuples with `hour=25` record the total rainfall for that day, and that we can ignore the values of attributes `flag_1` and `flag_2` for now.\n",
    "\n",
    "Let's take a look at some sample rows:"
   ]
  },
  {
   "cell_type": "markdown",
   "metadata": {},
   "source": [
    "Note that you can also load an empty in-memory database using:\n",
    "\n",
    "``%sql sqlite://``\n",
    "\n",
    "Now let's try out some queries!  (Don't worry, if you're new to SQL, we'll go over all the syntax in more depth next lecture)\n",
    "\n",
    "**`%sql` is used for single line SQL commands:**"
   ]
  },
  {
   "cell_type": "code",
   "execution_count": 4,
   "metadata": {
    "collapsed": false
   },
   "outputs": [
    {
     "name": "stdout",
     "output_type": "stream",
     "text": [
      "Done.\n"
     ]
    },
    {
     "data": {
      "text/html": [
       "<table>\n",
       "    <tr>\n",
       "        <th>state_code</th>\n",
       "        <th>station_id</th>\n",
       "        <th>year</th>\n",
       "        <th>month</th>\n",
       "        <th>day</th>\n",
       "        <th>hour</th>\n",
       "        <th>precipitation</th>\n",
       "        <th>flag_1</th>\n",
       "        <th>flag_2</th>\n",
       "    </tr>\n",
       "    <tr>\n",
       "        <td>1</td>\n",
       "        <td>807</td>\n",
       "        <td>2013</td>\n",
       "        <td>9</td>\n",
       "        <td>1</td>\n",
       "        <td>1</td>\n",
       "        <td>None</td>\n",
       "        <td>[</td>\n",
       "        <td></td>\n",
       "    </tr>\n",
       "    <tr>\n",
       "        <td>1</td>\n",
       "        <td>807</td>\n",
       "        <td>2013</td>\n",
       "        <td>9</td>\n",
       "        <td>1</td>\n",
       "        <td>25</td>\n",
       "        <td>0</td>\n",
       "        <td>I</td>\n",
       "        <td></td>\n",
       "    </tr>\n",
       "    <tr>\n",
       "        <td>1</td>\n",
       "        <td>807</td>\n",
       "        <td>2013</td>\n",
       "        <td>9</td>\n",
       "        <td>30</td>\n",
       "        <td>24</td>\n",
       "        <td>None</td>\n",
       "        <td>]</td>\n",
       "        <td></td>\n",
       "    </tr>\n",
       "    <tr>\n",
       "        <td>1</td>\n",
       "        <td>807</td>\n",
       "        <td>2013</td>\n",
       "        <td>9</td>\n",
       "        <td>30</td>\n",
       "        <td>25</td>\n",
       "        <td>0</td>\n",
       "        <td>I</td>\n",
       "        <td></td>\n",
       "    </tr>\n",
       "    <tr>\n",
       "        <td>1</td>\n",
       "        <td>6303</td>\n",
       "        <td>2013</td>\n",
       "        <td>9</td>\n",
       "        <td>1</td>\n",
       "        <td>1</td>\n",
       "        <td>0</td>\n",
       "        <td>g</td>\n",
       "        <td></td>\n",
       "    </tr>\n",
       "    <tr>\n",
       "        <td>1</td>\n",
       "        <td>6303</td>\n",
       "        <td>2013</td>\n",
       "        <td>9</td>\n",
       "        <td>1</td>\n",
       "        <td>25</td>\n",
       "        <td>0</td>\n",
       "        <td></td>\n",
       "        <td></td>\n",
       "    </tr>\n",
       "</table>"
      ],
      "text/plain": [
       "[(1, 807, 2013, 9, 1, 1, None, u'[', u''),\n",
       " (1, 807, 2013, 9, 1, 25, 0, u'I', u''),\n",
       " (1, 807, 2013, 9, 30, 24, None, u']', u''),\n",
       " (1, 807, 2013, 9, 30, 25, 0, u'I', u''),\n",
       " (1, 6303, 2013, 9, 1, 1, 0, u'g', u''),\n",
       " (1, 6303, 2013, 9, 1, 25, 0, u'', u'')]"
      ]
     },
     "execution_count": 4,
     "metadata": {},
     "output_type": "execute_result"
    }
   ],
   "source": [
    "%sql SELECT * FROM precipitation_full LIMIT 6;"
   ]
  },
  {
   "cell_type": "code",
   "execution_count": 5,
   "metadata": {
    "collapsed": false
   },
   "outputs": [
    {
     "name": "stdout",
     "output_type": "stream",
     "text": [
      "Done.\n"
     ]
    },
    {
     "data": {
      "text/html": [
       "<table>\n",
       "    <tr>\n",
       "        <th>state_code</th>\n",
       "        <th>station_id</th>\n",
       "        <th>flag_1</th>\n",
       "    </tr>\n",
       "    <tr>\n",
       "        <td>1</td>\n",
       "        <td>807</td>\n",
       "        <td>[</td>\n",
       "    </tr>\n",
       "    <tr>\n",
       "        <td>1</td>\n",
       "        <td>807</td>\n",
       "        <td>I</td>\n",
       "    </tr>\n",
       "    <tr>\n",
       "        <td>1</td>\n",
       "        <td>807</td>\n",
       "        <td>]</td>\n",
       "    </tr>\n",
       "    <tr>\n",
       "        <td>1</td>\n",
       "        <td>807</td>\n",
       "        <td>I</td>\n",
       "    </tr>\n",
       "    <tr>\n",
       "        <td>1</td>\n",
       "        <td>6303</td>\n",
       "        <td>g</td>\n",
       "    </tr>\n",
       "    <tr>\n",
       "        <td>1</td>\n",
       "        <td>6303</td>\n",
       "        <td></td>\n",
       "    </tr>\n",
       "    <tr>\n",
       "        <td>1</td>\n",
       "        <td>6303</td>\n",
       "        <td></td>\n",
       "    </tr>\n",
       "    <tr>\n",
       "        <td>1</td>\n",
       "        <td>6303</td>\n",
       "        <td></td>\n",
       "    </tr>\n",
       "    <tr>\n",
       "        <td>1</td>\n",
       "        <td>6303</td>\n",
       "        <td></td>\n",
       "    </tr>\n",
       "    <tr>\n",
       "        <td>1</td>\n",
       "        <td>6303</td>\n",
       "        <td></td>\n",
       "    </tr>\n",
       "</table>"
      ],
      "text/plain": [
       "[(1, 807, u'['),\n",
       " (1, 807, u'I'),\n",
       " (1, 807, u']'),\n",
       " (1, 807, u'I'),\n",
       " (1, 6303, u'g'),\n",
       " (1, 6303, u''),\n",
       " (1, 6303, u''),\n",
       " (1, 6303, u''),\n",
       " (1, 6303, u''),\n",
       " (1, 6303, u'')]"
      ]
     },
     "execution_count": 5,
     "metadata": {},
     "output_type": "execute_result"
    }
   ],
   "source": [
    "%sql SELECT state_code, station_id,flag_1 FROM precipitation_full LIMIT 10;"
   ]
  },
  {
   "cell_type": "code",
   "execution_count": 6,
   "metadata": {
    "collapsed": false
   },
   "outputs": [
    {
     "name": "stdout",
     "output_type": "stream",
     "text": [
      "Done.\n"
     ]
    },
    {
     "data": {
      "text/html": [
       "<table>\n",
       "    <tr>\n",
       "        <th>COUNT(*)</th>\n",
       "    </tr>\n",
       "    <tr>\n",
       "        <td>74251</td>\n",
       "    </tr>\n",
       "</table>"
      ],
      "text/plain": [
       "[(74251,)]"
      ]
     },
     "execution_count": 6,
     "metadata": {},
     "output_type": "execute_result"
    }
   ],
   "source": [
    "%sql SELECT COUNT(*) FROM precipitation_full;"
   ]
  },
  {
   "cell_type": "markdown",
   "metadata": {},
   "source": [
    "And **`%%sql` is used for multi-line SQL commands:**"
   ]
  },
  {
   "cell_type": "code",
   "execution_count": 16,
   "metadata": {
    "collapsed": false
   },
   "outputs": [
    {
     "name": "stdout",
     "output_type": "stream",
     "text": [
      "Done.\n"
     ]
    },
    {
     "data": {
      "text/html": [
       "<table>\n",
       "    <tr>\n",
       "        <th>totalprecipitation</th>\n",
       "    </tr>\n",
       "    <tr>\n",
       "        <td>31982</td>\n",
       "    </tr>\n",
       "</table>"
      ],
      "text/plain": [
       "[(31982,)]"
      ]
     },
     "execution_count": 16,
     "metadata": {},
     "output_type": "execute_result"
    }
   ],
   "source": [
    "%%sql\n",
    "SELECT SUM(p.precipitation) AS totalprecipitation\n",
    "FROM precipitation_full p, states s \n",
    "WHERE p.state_code = s.code AND s.abbrev = 'CA';"
   ]
  },
  {
   "cell_type": "code",
   "execution_count": 9,
   "metadata": {
    "collapsed": false
   },
   "outputs": [
    {
     "name": "stdout",
     "output_type": "stream",
     "text": [
      "Done.\n"
     ]
    },
    {
     "data": {
      "text/html": [
       "<table>\n",
       "    <tr>\n",
       "        <th>name</th>\n",
       "    </tr>\n",
       "    <tr>\n",
       "        <td>precipitation_full</td>\n",
       "    </tr>\n",
       "    <tr>\n",
       "        <td>states</td>\n",
       "    </tr>\n",
       "    <tr>\n",
       "        <td>precipitation</td>\n",
       "    </tr>\n",
       "    <tr>\n",
       "        <td>A</td>\n",
       "    </tr>\n",
       "    <tr>\n",
       "        <td>B</td>\n",
       "    </tr>\n",
       "    <tr>\n",
       "        <td>streets</td>\n",
       "    </tr>\n",
       "    <tr>\n",
       "        <td>franchise</td>\n",
       "    </tr>\n",
       "    <tr>\n",
       "        <td>store</td>\n",
       "    </tr>\n",
       "    <tr>\n",
       "        <td>bagel</td>\n",
       "    </tr>\n",
       "    <tr>\n",
       "        <td>purchase</td>\n",
       "    </tr>\n",
       "</table>"
      ],
      "text/plain": [
       "[(u'precipitation_full',),\n",
       " (u'states',),\n",
       " (u'precipitation',),\n",
       " (u'A',),\n",
       " (u'B',),\n",
       " (u'streets',),\n",
       " (u'franchise',),\n",
       " (u'store',),\n",
       " (u'bagel',),\n",
       " (u'purchase',)]"
      ]
     },
     "execution_count": 9,
     "metadata": {},
     "output_type": "execute_result"
    }
   ],
   "source": [
    "%sql SELECT name FROM sqlite_master WHERE type='table';"
   ]
  },
  {
   "cell_type": "markdown",
   "metadata": {},
   "source": [
    "We can also work with the output of the queries we issue:"
   ]
  },
  {
   "cell_type": "code",
   "execution_count": 11,
   "metadata": {
    "collapsed": false
   },
   "outputs": [
    {
     "name": "stdout",
     "output_type": "stream",
     "text": [
      "Done.\n"
     ]
    }
   ],
   "source": [
    "result = %sql SELECT * FROM states;"
   ]
  },
  {
   "cell_type": "code",
   "execution_count": 12,
   "metadata": {
    "collapsed": false
   },
   "outputs": [
    {
     "data": {
      "text/plain": [
       "[u'code', u'name', u'abbrev']"
      ]
     },
     "execution_count": 12,
     "metadata": {},
     "output_type": "execute_result"
    }
   ],
   "source": [
    "result.keys"
   ]
  },
  {
   "cell_type": "markdown",
   "metadata": {},
   "source": [
    "*Note that the first row is the header row with column names!*"
   ]
  },
  {
   "cell_type": "code",
   "execution_count": 15,
   "metadata": {
    "collapsed": false
   },
   "outputs": [
    {
     "name": "stdout",
     "output_type": "stream",
     "text": [
      "+------+----------------------+--------------+\n",
      "| code |         name         |    abbrev    |\n",
      "+------+----------------------+--------------+\n",
      "|  0   |        State         | Abbreviation |\n",
      "|  1   |       Alabama        |      AL      |\n",
      "|  2   |       Arizona        |      AZ      |\n",
      "|  3   |       Arkansas       |      AR      |\n",
      "|  4   |      California      |      CA      |\n",
      "|  5   |       Colorado       |      CO      |\n",
      "|  6   |     Connecticut      |      CT      |\n",
      "|  7   |       Delaware       |      DE      |\n",
      "|  8   | District of Columbia |      DC      |\n",
      "|  9   |       Florida        |      FL      |\n",
      "|  10  |       Georgia        |      GA      |\n",
      "|  11  |        Idaho         |      ID      |\n",
      "|  12  |       Illinois       |      IL      |\n",
      "|  13  |       Indiana        |      IN      |\n",
      "|  14  |         Iowa         |      IA      |\n",
      "|  15  |        Kansas        |      KS      |\n",
      "|  16  |       Kentucky       |      KY      |\n",
      "|  17  |      Louisiana       |      LA      |\n",
      "|  18  |        Maine         |      ME      |\n",
      "|  19  |       Montana        |      MT      |\n",
      "|  20  |       Nebraska       |      NE      |\n",
      "|  21  |        Nevada        |      NV      |\n",
      "|  22  |    New Hampshire     |      NH      |\n",
      "|  23  |      New Jersey      |      NJ      |\n",
      "|  24  |      New Mexico      |      NM      |\n",
      "|  25  |       New York       |      NY      |\n",
      "|  26  |    North Carolina    |      NC      |\n",
      "|  27  |     North Dakota     |      ND      |\n",
      "|  28  |         Ohio         |      OH      |\n",
      "|  29  |       Oklahoma       |      OK      |\n",
      "|  30  |        Oregon        |      OR      |\n",
      "|  31  |       Maryland       |      MD      |\n",
      "|  32  |    Massachusetts     |      MA      |\n",
      "|  33  |       Michigan       |      MI      |\n",
      "|  34  |      Minnesota       |      MN      |\n",
      "|  35  |     Mississippi      |      MS      |\n",
      "|  36  |       Missouri       |      MO      |\n",
      "|  37  |     Pennsylvania     |      PA      |\n",
      "|  38  |     Rhode Island     |      RI      |\n",
      "|  39  |    South Carolina    |      SC      |\n",
      "|  40  |     South Dakota     |      SD      |\n",
      "|  41  |      Tennessee       |      TN      |\n",
      "|  42  |        Texas         |      TX      |\n",
      "|  43  |         Utah         |      UT      |\n",
      "|  44  |       Vermont        |      VT      |\n",
      "|  45  |       Virginia       |      VA      |\n",
      "|  46  |      Washington      |      WA      |\n",
      "|  47  |    West Virginia     |      WV      |\n",
      "|  48  |      Wisconsin       |      WI      |\n",
      "|  49  |       Wyoming        |      WY      |\n",
      "|  50  |        Alaska        |      AK      |\n",
      "|  51  |        Hawaii        |      HI      |\n",
      "|  66  |     Puerto Rico      |      PR      |\n",
      "|  67  |    Virgin Islands    |      VI      |\n",
      "|  91  |   Pacific Islands    |      PI      |\n",
      "+------+----------------------+--------------+\n"
     ]
    }
   ],
   "source": [
    "print result"
   ]
  },
  {
   "cell_type": "code",
   "execution_count": 13,
   "metadata": {
    "collapsed": false
   },
   "outputs": [
    {
     "data": {
      "text/plain": [
       "(1, u'Alabama', u'AL')"
      ]
     },
     "execution_count": 13,
     "metadata": {},
     "output_type": "execute_result"
    }
   ],
   "source": [
    "result[1]"
   ]
  },
  {
   "cell_type": "code",
   "execution_count": 14,
   "metadata": {
    "collapsed": false
   },
   "outputs": [
    {
     "data": {
      "text/plain": [
       "u'Alabama'"
      ]
     },
     "execution_count": 14,
     "metadata": {},
     "output_type": "execute_result"
    }
   ],
   "source": [
    "result[1].name"
   ]
  },
  {
   "cell_type": "markdown",
   "metadata": {},
   "source": [
    "Now feel free to have fun with the dataset- we'll see more of it later though!"
   ]
  }
 ],
 "metadata": {
  "kernelspec": {
   "display_name": "Python 2",
   "language": "python",
   "name": "python2"
  },
  "language_info": {
   "codemirror_mode": {
    "name": "ipython",
    "version": 2
   },
   "file_extension": ".py",
   "mimetype": "text/x-python",
   "name": "python",
   "nbconvert_exporter": "python",
   "pygments_lexer": "ipython2",
   "version": "2.7.10"
  }
 },
 "nbformat": 4,
 "nbformat_minor": 0
}
