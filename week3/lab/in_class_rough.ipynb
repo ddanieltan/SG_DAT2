{
 "cells": [
  {
   "cell_type": "code",
   "execution_count": 1,
   "metadata": {
    "collapsed": true
   },
   "outputs": [],
   "source": [
    "%matplotlib inline"
   ]
  },
  {
   "cell_type": "code",
   "execution_count": 9,
   "metadata": {
    "collapsed": true
   },
   "outputs": [],
   "source": [
    "import numpy as np\n",
    "import pandas as pd"
   ]
  },
  {
   "cell_type": "code",
   "execution_count": 3,
   "metadata": {
    "collapsed": false
   },
   "outputs": [
    {
     "data": {
      "text/plain": [
       "<matplotlib.axes._subplots.AxesSubplot at 0x7f9782162690>"
      ]
     },
     "execution_count": 3,
     "metadata": {},
     "output_type": "execute_result"
    },
    {
     "data": {
      "image/png": "[encoded data removed]",
      "text/plain": [
       "<matplotlib.figure.Figure at 0x7f97821622d0>"
      ]
     },
     "metadata": {},
     "output_type": "display_data"
    }
   ],
   "source": [
    "norm_data = pd.DataFrame(np.random.normal(size=100000))\n",
    "\n",
    "norm_data.plot(kind=\"density\",\n",
    "              figsize=(10,10))\n"
   ]
  },
  {
   "cell_type": "code",
   "execution_count": 36,
   "metadata": {
    "collapsed": false
   },
   "outputs": [],
   "source": [
    "#Revising K-nearest neighbours\n",
    "#Curse of dimenionality - why kNN doesn't work anymore (because points are scattered too far)\n",
    "\n",
    "tr_data = [(3,4,'yes'),(4,5,'yes'),(3,6,'no'),(1,7,'yes'),(2,2,'no')]\n",
    "\n",
    "new_input = [(3,4),(4,4),(6,6)]\n",
    "\n"
   ]
  },
  {
   "cell_type": "code",
   "execution_count": null,
   "metadata": {
    "collapsed": true
   },
   "outputs": [],
   "source": []
  },
  {
   "cell_type": "code",
   "execution_count": 38,
   "metadata": {
    "collapsed": false
   },
   "outputs": [
    {
     "name": "stdout",
     "output_type": "stream",
     "text": [
      "0.0 yes\n",
      "nan yes\n",
      "1.41421356237 no\n",
      "nan yes\n",
      "2.64575131106 no\n",
      "1.0 yes\n",
      "1.73205080757 yes\n",
      "1.73205080757 no\n",
      "nan yes\n",
      "2.0 no\n",
      "2.2360679775 yes\n",
      "1.73205080757 yes\n",
      "1.73205080757 no\n",
      "2.44948974278 yes\n",
      "0.0 no\n"
     ]
    },
    {
     "name": "stderr",
     "output_type": "stream",
     "text": [
      "/home/ddan/anaconda2/lib/python2.7/site-packages/IPython/kernel/__main__.py:8: RuntimeWarning: invalid value encountered in sqrt\n",
      "/home/ddan/anaconda2/lib/python2.7/site-packages/IPython/kernel/__main__.py:11: RuntimeWarning: invalid value encountered in sqrt\n"
     ]
    }
   ],
   "source": [
    "# manually do kNN\n",
    "\n",
    "#find the distance\n",
    "distances = {}\n",
    "for i in new_input:\n",
    "    for j in tr_data:\n",
    "        sum1 = (i[0]-j[0])^2 + (i[1]-j[1])^2\n",
    "        print np.sqrt(sum1), j[2]\n",
    "        \n",
    "        if i in distances.keys():\n",
    "            if np.sqrt(sum1) < distances.get(i)[0]:\n",
    "                distances.update({i:(np.sqrt(sum1), j[2])})\n",
    "            else:\n",
    "                pass\n",
    "        else:\n",
    "            distances.update({i:(np.sqrt(sum1), j[2])}) # adding first time\n",
    "        \n",
    "        \n",
    "        "
   ]
  },
  {
   "cell_type": "code",
   "execution_count": 39,
   "metadata": {
    "collapsed": false
   },
   "outputs": [
    {
     "data": {
      "text/plain": [
       "{(3, 4): (0.0, 'yes'), (4, 4): (1.0, 'yes'), (6, 6): (0.0, 'no')}"
      ]
     },
     "execution_count": 39,
     "metadata": {},
     "output_type": "execute_result"
    }
   ],
   "source": [
    "distances"
   ]
  }
 ],
 "metadata": {
  "kernelspec": {
   "display_name": "Python 2",
   "language": "python",
   "name": "python2"
  },
  "language_info": {
   "codemirror_mode": {
    "name": "ipython",
    "version": 2
   },
   "file_extension": ".py",
   "mimetype": "text/x-python",
   "name": "python",
   "nbconvert_exporter": "python",
   "pygments_lexer": "ipython2",
   "version": "2.7.10"
  }
 },
 "nbformat": 4,
 "nbformat_minor": 0
}
