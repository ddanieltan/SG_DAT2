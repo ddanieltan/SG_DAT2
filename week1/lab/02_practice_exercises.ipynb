{
 "cells": [
  {
   "cell_type": "markdown",
   "metadata": {},
   "source": [
    "# This notebooks has a number of problems to help you get better at Python"
   ]
  },
  {
   "cell_type": "markdown",
   "metadata": {},
   "source": [
    "### Problem 1: Write a function to convert miles to Kilo Meters\n",
    "\n",
    "Hint: 1 mile = 1.6 km"
   ]
  },
  {
   "cell_type": "code",
   "execution_count": 9,
   "metadata": {
    "collapsed": false
   },
   "outputs": [],
   "source": [
    "# Code the following function\n",
    "def convert_to_km(miles):\n",
    "    '''Returns km value for miles.\n",
    "    '''\n",
    "    km = miles * 1.6\n",
    "    return km"
   ]
  },
  {
   "cell_type": "code",
   "execution_count": 2,
   "metadata": {
    "collapsed": false
   },
   "outputs": [],
   "source": [
    "# This is your scratch space to do what you want like test.  \n",
    "# To create more scratch space, just click on Insert -> Cell from the menu"
   ]
  },
  {
   "cell_type": "code",
   "execution_count": 10,
   "metadata": {
    "collapsed": false
   },
   "outputs": [],
   "source": [
    "# If your code is right, the following asserts would succeed, otherwise, you will get a Traceback error\n",
    "# If you get an error, go back to above code and modify and try again.\n",
    "assert(convert_to_km(0) == 0)\n",
    "assert(convert_to_km(1) == 1.6)\n",
    "assert(convert_to_km(2) == 3.2)\n",
    "assert(convert_to_km(1.25) == 2.0)\n"
   ]
  },
  {
   "cell_type": "markdown",
   "metadata": {},
   "source": [
    "### Problem 2: Write a function to compute powers of 2\n",
    "\n",
    "Hint: Powers of 2 are 1, 2, 4, 8, 16, 32 and so on for 2 to the power of 0, 1, 2, 3, 4, 5."
   ]
  },
  {
   "cell_type": "code",
   "execution_count": 12,
   "metadata": {
    "collapsed": false
   },
   "outputs": [],
   "source": [
    "# Code the following function\n",
    "def power_of_2(power):\n",
    "    '''Returns 2 to the power value.\n",
    "    '''\n",
    "    return pow(2,power)"
   ]
  },
  {
   "cell_type": "code",
   "execution_count": null,
   "metadata": {
    "collapsed": false
   },
   "outputs": [],
   "source": [
    "# For example, you can test your code by typing power_of_2(1) and confirming the result."
   ]
  },
  {
   "cell_type": "code",
   "execution_count": 14,
   "metadata": {
    "collapsed": false
   },
   "outputs": [],
   "source": [
    "# If your code is right, the following asserts would succeed\n",
    "assert(power_of_2(0) == 1)\n",
    "assert(power_of_2(1) == 2)\n",
    "assert(power_of_2(2) == 4)\n",
    "assert(power_of_2(3) == 8)"
   ]
  },
  {
   "cell_type": "markdown",
   "metadata": {},
   "source": [
    " #### Problem 3: Write a function to check if the number is a power of 2\n",
    " \n",
    " If I pass in a value of 1, 2, 4, 8, 16 ... it should return True.  Otherwise, it should return False."
   ]
  },
  {
   "cell_type": "code",
   "execution_count": 22,
   "metadata": {
    "collapsed": false
   },
   "outputs": [],
   "source": [
    "def check_power_of_2(numb):\n",
    "    '''Returns True if numb is a power of 2, else returns False'''\n",
    "    if numb == 0:\n",
    "        return False\n",
    "    while (numb%2==0):\n",
    "        numb = numb/2\n",
    "    if numb > 1:\n",
    "        return False\n",
    "    else:\n",
    "        return True\n",
    "   "
   ]
  },
  {
   "cell_type": "code",
   "execution_count": 23,
   "metadata": {
    "collapsed": false
   },
   "outputs": [],
   "source": [
    "# If your code is right, the following asserts would succeed.\n",
    "assert(check_power_of_2(2) is True)\n",
    "assert(check_power_of_2(3) is False)\n",
    "assert(check_power_of_2(8) is True)\n",
    "assert(check_power_of_2(12) is False)"
   ]
  },
  {
   "cell_type": "markdown",
   "metadata": {},
   "source": [
    "### Problem 4: Write a function that returns the nth fibonaci sequence\n",
    "\n",
    "If I call with value of:\n",
    "    * 1, return the first fib sequence of 1\n",
    "    * 2, return 2nd number in fib seq of 1\n",
    "    * 3, return 1 + 1 = 2\n",
    "    * 4, return 1 + 2 = 3\n",
    "    * 5, return 2 + 3 = 5\n",
    "    * 6, return 3 + 5 = 8\n",
    "\n",
    "Ref: http://en.wikipedia.org/wiki/Fibonacci_number"
   ]
  },
  {
   "cell_type": "code",
   "execution_count": 24,
   "metadata": {
    "collapsed": false
   },
   "outputs": [],
   "source": [
    "def fib_value(numb):\n",
    "    '''returns the nth numb in fibonaci sequence'''\n",
    "    if numb==1 or numb==2:\n",
    "        return 1\n",
    "    else:\n",
    "        return fib_value(numb-1) + fib_value(numb-2)"
   ]
  },
  {
   "cell_type": "code",
   "execution_count": 25,
   "metadata": {
    "collapsed": false
   },
   "outputs": [],
   "source": [
    "# If your code is right, the following asserts would succeed. \n",
    "assert(fib_value(1) == 1)\n",
    "assert(fib_value(5) == 5)\n",
    "assert(fib_value(6) == 8)\n",
    "assert(fib_value(7) == 13)"
   ]
  },
  {
   "cell_type": "markdown",
   "metadata": {},
   "source": [
    "### Problem 5: Write a function to check if a number is a prime number"
   ]
  },
  {
   "cell_type": "code",
   "execution_count": 1,
   "metadata": {
    "collapsed": false
   },
   "outputs": [],
   "source": [
    "def is_prime(numb):\n",
    "    '''Returns True if the number is a prime number'''\n",
    "    prime_status = True\n",
    "    while prime_status:\n",
    "        for div in xrange(2,numb):\n",
    "            if numb % div == 0:\n",
    "                return False\n",
    "            else:\n",
    "                return True"
   ]
  },
  {
   "cell_type": "code",
   "execution_count": null,
   "metadata": {
    "collapsed": false
   },
   "outputs": [],
   "source": [
    "# If your code is right, the following asserts would succeed. \n",
    "assert(is_prime(2) is True)\n",
    "assert(is_prime(11) is True)\n",
    "assert(is_prime(12) is False)\n",
    "assert(is_prime(13) is True)"
   ]
  },
  {
   "cell_type": "code",
   "execution_count": 31,
   "metadata": {
    "collapsed": false
   },
   "outputs": [
    {
     "name": "stdout",
     "output_type": "stream",
     "text": [
      "xrange(2, 2)\n"
     ]
    }
   ],
   "source": [
    "print xrange(2,2)"
   ]
  },
  {
   "cell_type": "raw",
   "metadata": {},
   "source": [
    "### Problem 6: Write a function that returns the max number in a given sequence (list)\n",
    "\n",
    "Don't use the max function\n",
    "\n",
    "* For [1, 3, 2], return 3\n",
    "* For [3, 3, 4, 5, 1], return 5\n",
    "* For [], return None"
   ]
  },
  {
   "cell_type": "code",
   "execution_count": null,
   "metadata": {
    "collapsed": false
   },
   "outputs": [],
   "source": [
    "def find_max(seq):\n",
    "    '''Returns max value in the seq (list).  If the seq is empty, return None'''\n",
    "    if len(seq)==0:\n",
    "        return None\n",
    "    numb = 0\n",
    "    for i in seq:\n",
    "        if i > numb:\n",
    "            numb = i\n",
    "    return numb"
   ]
  },
  {
   "cell_type": "code",
   "execution_count": null,
   "metadata": {
    "collapsed": false
   },
   "outputs": [],
   "source": [
    "# If your code is right, the following asserts would succeed.\n",
    "assert(find_max([1, 3, 2]) == 3)\n",
    "assert(find_max([3, 3, 4, 5, 1]) == 5)\n",
    "assert(find_max([]) is None)"
   ]
  },
  {
   "cell_type": "markdown",
   "metadata": {},
   "source": [
    "### Problem 7: Find the most common (repeated) number in a sequence\n",
    "\n",
    "* For [1, 1, 3, 2], return 1 (most common or repeated value)\n",
    "* For [1, 2, 2, 2, 3], return 2\n",
    "* For empty list [], return None\n",
    "\n",
    "Hint: Creating a Dictionary of numbers with their counts might be useful"
   ]
  },
  {
   "cell_type": "code",
   "execution_count": 3,
   "metadata": {
    "collapsed": false
   },
   "outputs": [],
   "source": [
    "def most_common(seq):\n",
    "    '''Returns the most common number in the sequence, return None if seq is empty'''\n",
    "    if len(seq)==0:\n",
    "        return None\n",
    "    \n",
    "    count_dict = {}\n",
    "    for numb in seq:\n",
    "        if numb in count_dict.keys():\n",
    "            count_dict[numb] += 1\n",
    "        else:\n",
    "            count_dict[numb] = 1\n",
    "    return max(count_dict,key=count_dict.get)"
   ]
  },
  {
   "cell_type": "code",
   "execution_count": 4,
   "metadata": {
    "collapsed": false
   },
   "outputs": [],
   "source": [
    "# If your code is right, the following asserts would succeed.\n",
    "assert(most_common([1, 1, 3, 2]) == 1)\n",
    "assert(most_common([1, 2, 2, 2, 5]) == 2)\n",
    "assert(most_common([]) is None)"
   ]
  },
  {
   "cell_type": "markdown",
   "metadata": {},
   "source": [
    "### Problem 8: Check if a string is a palindrome.\n",
    "\n",
    "Palindrome read the same backwards and forwards.\n",
    "\n",
    "Ref: http://en.wikipedia.org/wiki/Palindrome"
   ]
  },
  {
   "cell_type": "code",
   "execution_count": 5,
   "metadata": {
    "collapsed": false
   },
   "outputs": [],
   "source": [
    "def is_palindrome(seq):\n",
    "    '''Returns True if seq is a palindrome else return False'''\n",
    "    reversed_string = seq[::-1]\n",
    "    #This is extended slice syntax. It works by doing [begin:end:step]\n",
    "    #by leaving begin and end off and specifying a step of -1, it reverses a string.\n",
    "    if seq == reversed_string:\n",
    "        return True\n",
    "    else:\n",
    "        return False"
   ]
  },
  {
   "cell_type": "code",
   "execution_count": 6,
   "metadata": {
    "collapsed": false
   },
   "outputs": [],
   "source": [
    "# If your code is right, the following asserts would succeed.\n",
    "assert(is_palindrome('radar') is True)\n",
    "assert(is_palindrome('civic') is True)\n",
    "assert(is_palindrome('honda') is False)"
   ]
  },
  {
   "cell_type": "markdown",
   "metadata": {},
   "source": [
    "### Problem 9: Find the five most commonly used words in Gettysburg Address\n",
    "\n",
    "Hint: http://www.d.umn.edu/~rmaclin/gettysburg-address.html"
   ]
  },
  {
   "cell_type": "code",
   "execution_count": 95,
   "metadata": {
    "collapsed": false
   },
   "outputs": [],
   "source": [
    "# If the following import gives error, go to command prompt and run \"conda install requests\"\n",
    "import requests\n",
    "\n",
    "url = 'http://www.d.umn.edu/~rmaclin/gettysburg-address.html'\n",
    "gettsburg = requests.get(url)\n",
    "g_text = gettsburg.text\n",
    "g_json = gettsburg.json #forget about this for now"
   ]
  },
  {
   "cell_type": "code",
   "execution_count": 58,
   "metadata": {
    "collapsed": false
   },
   "outputs": [
    {
     "data": {
      "text/plain": [
       "u'<html>\\n\\n<head>\\n<title> Text of Lincoln\\'s Gettysburg Adddress </title>\\n</head>\\n\\n<body bgcolor=\"white\" text=\"black\" font=\"Courier\">\\n<center>\\n<h3>\\nAddress Delivered at the Dedication of the Cemetery at Gettysburg <br>\\nAbraham Lincoln <br>\\nNovember 19, 1863 <br>\\n</h3>\\n</center>\\n\\n<p>\\nFour score and seven years ago our fathers brought forth \\non this continent, a new nation, conceived in Liberty, and\\ndedicated to the proposition that all men are created equal.\\n</p>\\n\\n<p>\\nNow we are engaged in a great civil war, testing whether\\nthat nation, or any nation so conceived and dedicated, can\\nlong endure.  We are met on a great battle-field of that war.\\nWe have come to dedicate a portion of that field, as a final\\nresting place for those who here gave their lives that that\\nnation might live.  It is altogether fitting and proper that we\\nshould do this.\\n</p>\\n\\n<p>\\nBut, in a larger sense, we can not dedicate -- we can not\\nconsecrate -- we can not hallow -- this ground.  The brave men,\\nliving and dead, who struggled here, have consecrated it, far\\nabove our poor power to add or detract.  The world will little\\nnote, nor long remember what we say here, but it can never\\nforget what they did here.  It is for us the living, rather, to be\\ndedicated here to the unfinished work which they who fought\\nhere have thus far so nobly advanced.  It is rather for us to\\nbe here dedicated to the great task remaining before us -- that\\nfrom these honored dead we take increased devotion to that\\ncause for which they gave the last full measure of devotion --\\nthat we here highly resolve that these dead shall not have\\ndied in vain -- that this nation, under God, shall have a new\\nbirth of freedom -- and that government of the people, by the\\npeople, for the people, shall not perish from the earth.\\n</p>\\n\\n</body>\\n</html>\\n'"
      ]
     },
     "execution_count": 58,
     "metadata": {},
     "output_type": "execute_result"
    }
   ],
   "source": [
    "g_text"
   ]
  },
  {
   "cell_type": "code",
   "execution_count": 103,
   "metadata": {
    "collapsed": false
   },
   "outputs": [
    {
     "name": "stdout",
     "output_type": "stream",
     "text": [
      "[u'\\n\\n', u'\\n', u\" Text of Lincoln's Gettysburg Adddress \", u'\\n', u'\\n\\n', u'\\n', u'\\n', u'\\nAddress Delivered at the Dedication of the Cemetery at Gettysburg ', u'\\nAbraham Lincoln ', u'\\nNovember 19, 1863 ', u'\\n', u'\\n', u'\\n\\n', u'\\nFour score and seven years ago our fathers brought forth \\non this continent, a new nation, conceived in Liberty, and\\ndedicated to the proposition that all men are created equal.\\n', u'\\n\\n', u'\\nNow we are engaged in a great civil war, testing whether\\nthat nation, or any nation so conceived and dedicated, can\\nlong endure.  We are met on a great battle-field of that war.\\nWe have come to dedicate a portion of that field, as a final\\nresting place for those who here gave their lives that that\\nnation might live.  It is altogether fitting and proper that we\\nshould do this.\\n', u'\\n\\n', u'\\nBut, in a larger sense, we can not dedicate -- we can not\\nconsecrate -- we can not hallow -- this ground.  The brave men,\\nliving and dead, who struggled here, have consecrated it, far\\nabove our poor power to add or detract.  The world will little\\nnote, nor long remember what we say here, but it can never\\nforget what they did here.  It is for us the living, rather, to be\\ndedicated here to the unfinished work which they who fought\\nhere have thus far so nobly advanced.  It is rather for us to\\nbe here dedicated to the great task remaining before us -- that\\nfrom these honored dead we take increased devotion to that\\ncause for which they gave the last full measure of devotion --\\nthat we here highly resolve that these dead shall not have\\ndied in vain -- that this nation, under God, shall have a new\\nbirth of freedom -- and that government of the people, by the\\npeople, for the people, shall not perish from the earth.\\n', u'\\n\\n', u'\\n', u'\\n']\n"
     ]
    }
   ],
   "source": [
    "from HTMLParser import HTMLParser\n",
    "\n",
    "# create a subclass and override the handler methods\n",
    "list1 =[]\n",
    "class MyHTMLParser(HTMLParser):\n",
    "    #def handle_starttag(self, tag, attrs):\n",
    "        #print \"Encountered a start tag:\", tag\n",
    "\n",
    "    #def handle_endtag(self, tag):\n",
    "        #print \"Encountered an end tag :\", tag\n",
    "    #def __init__(self):\n",
    "     #   HTMLParser.HTMLParser.__init__(self)\n",
    "        #self.data=[]\n",
    "    \n",
    "    def handle_data(self, data):\n",
    "        list1.append(data)\n",
    "\n",
    "# instantiate the parser and fed it some HTML\n",
    "parser = MyHTMLParser()\n",
    "parser.feed(g_text) #feed destroys the init when closed, and this is returned as empty\n",
    "print list1"
   ]
  },
  {
   "cell_type": "code",
   "execution_count": 81,
   "metadata": {
    "collapsed": false
   },
   "outputs": [
    {
     "name": "stdout",
     "output_type": "stream",
     "text": [
      "[]\n"
     ]
    }
   ],
   "source": [
    "# Now gettsburg has the text of Lincon's address.  Can you find the most commonly used words?\n",
    "import re\n",
    "#match = re.search(r'(<br>\\nNovember 19, 1863 <br>\\n</h3>\\n</center>\\n\\n<p>\\n)(.+)', g_text)\n",
    "match = re.findall(r'(<p>)(\\d+)(</p>)',g_text)\n",
    "print match"
   ]
  },
  {
   "cell_type": "code",
   "execution_count": 69,
   "metadata": {
    "collapsed": false
   },
   "outputs": [],
   "source": [
    "#Using another JSON object\n",
    "url='https://ajax.googleapis.com/ajax/services/feed/find?v=1.0&q=Official%20Google%20Blogs'\n",
    "gblog = requests.get(url).json"
   ]
  },
  {
   "cell_type": "code",
   "execution_count": 71,
   "metadata": {
    "collapsed": false
   },
   "outputs": [
    {
     "data": {
      "text/plain": [
       "instancemethod"
      ]
     },
     "execution_count": 71,
     "metadata": {},
     "output_type": "execute_result"
    }
   ],
   "source": [
    "type(gblog)"
   ]
  },
  {
   "cell_type": "markdown",
   "metadata": {},
   "source": [
    "# Problem 10: Do problem 9 excluding stop words like \"a, the, and etc.\""
   ]
  },
  {
   "cell_type": "code",
   "execution_count": null,
   "metadata": {
    "collapsed": false
   },
   "outputs": [],
   "source": []
  }
 ],
 "metadata": {
  "kernelspec": {
   "display_name": "Python 2",
   "language": "python",
   "name": "python2"
  },
  "language_info": {
   "codemirror_mode": {
    "name": "ipython",
    "version": 2
   },
   "file_extension": ".py",
   "mimetype": "text/x-python",
   "name": "python",
   "nbconvert_exporter": "python",
   "pygments_lexer": "ipython2",
   "version": "2.7.10"
  }
 },
 "nbformat": 4,
 "nbformat_minor": 0
}
