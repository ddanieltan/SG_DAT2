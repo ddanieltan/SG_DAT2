{
 "cells": [
  {
   "cell_type": "code",
   "execution_count": null,
   "metadata": {
    "collapsed": true
   },
   "outputs": [],
   "source": [
    "'''\n",
    "EXERCISE:\n",
    "1. Create a list of the first names of your family members.\n",
    "2. Print the name of the last person in the list.\n",
    "3. Print the length of the name of the first person in the list.\n",
    "4. Change one of the names from their real name to their nickname.\n",
    "5. Append a new person to the list.\n",
    "6. Change the name of the new person to lowercase using the string method 'lower'.\n",
    "7. Sort the list in reverse alphabetical order.\n",
    "Bonus: Sort the list by the length of the names (shortest to longest).\n",
    "'''\n",
    "\n",
    "# list of names\n",
    "# last element\n",
    "# length of first string\n",
    "# overwrite existing element\n",
    "# append new element\n",
    "# change last string to be lowercase\n",
    "# sort the list in reverse order\n",
    "# sort the list by length"
   ]
  },
  {
   "cell_type": "code",
   "execution_count": 2,
   "metadata": {
    "collapsed": false
   },
   "outputs": [
    {
     "data": {
      "text/plain": [
       "['a', 'basdsad', 'sdadsa']"
      ]
     },
     "execution_count": 2,
     "metadata": {},
     "output_type": "execute_result"
    }
   ],
   "source": [
    "family_names = ['a','basdsad','sdadsa']\n",
    "family_names"
   ]
  },
  {
   "cell_type": "code",
   "execution_count": null,
   "metadata": {
    "collapsed": true
   },
   "outputs": [],
   "source": [
    "EXERCISE 1:\n",
    "Given that: letters = ['a', 'b', 'c']\n",
    "Write a list comprehension that returns: ['A', 'B', 'C']\n",
    "\n",
    "EXERCISE 2 (BONUS):\n",
    "Given that: word = 'abc'\n",
    "Write a list comprehension that returns: ['A', 'B', 'C']\n",
    "\n",
    "EXERCISE 3 (BONUS):\n",
    "Given that: fruits = ['Apple', 'Banana', 'Cherry']\n",
    "Write a list comprehension that returns: ['A', 'B', 'C']"
   ]
  },
  {
   "cell_type": "code",
   "execution_count": 3,
   "metadata": {
    "collapsed": false
   },
   "outputs": [
    {
     "name": "stdout",
     "output_type": "stream",
     "text": [
      "['A', 'B', 'C']\n"
     ]
    }
   ],
   "source": [
    "letters = ['a', 'b', 'c']\n",
    "print [l.upper() for l in letters]"
   ]
  },
  {
   "cell_type": "code",
   "execution_count": 6,
   "metadata": {
    "collapsed": false
   },
   "outputs": [
    {
     "name": "stdout",
     "output_type": "stream",
     "text": [
      "['A', 'B', 'C']\n"
     ]
    }
   ],
   "source": [
    "word = 'abc'\n",
    "print [letter.upper() for letter in word]"
   ]
  },
  {
   "cell_type": "code",
   "execution_count": 18,
   "metadata": {
    "collapsed": false
   },
   "outputs": [
    {
     "name": "stdout",
     "output_type": "stream",
     "text": [
      "['ABC']\n"
     ]
    }
   ],
   "source": [
    "#How to convert arrays to string, and vice versa\n",
    "y = ['A', 'B', 'C']\n",
    "new = \"\".join(y)\n",
    "newer=new.split()\n",
    "print newer"
   ]
  },
  {
   "cell_type": "code",
   "execution_count": 8,
   "metadata": {
    "collapsed": false
   },
   "outputs": [
    {
     "name": "stdout",
     "output_type": "stream",
     "text": [
      "['A', 'B', 'C']\n"
     ]
    }
   ],
   "source": [
    "fruits = ['Apple', 'Banana', 'Cherry']\n",
    "print [word[0] for word in fruits]"
   ]
  },
  {
   "cell_type": "code",
   "execution_count": 12,
   "metadata": {
    "collapsed": true
   },
   "outputs": [],
   "source": [
    "#Practicing Dictionary\n",
    "family = {'dad':'Homer', 'mom':'Marge', 'size':2}\n",
    "family['kids'] = ['bart', 'lisa']  "
   ]
  },
  {
   "cell_type": "code",
   "execution_count": null,
   "metadata": {
    "collapsed": true
   },
   "outputs": [],
   "source": [
    "\n",
    "'''\n",
    "EXERCISE:\n",
    "1. Print the name of the mom.\n",
    "2. Change the size to 5.\n",
    "3. Add 'Maggie' to the list of kids.\n",
    "4. Fix 'bart' and 'lisa' so that the first letter is capitalized.\n",
    "Bonus: Do this last step using a list comprehension.\n",
    "'''\n",
    "\n",
    "# returns 'Marge'\n",
    "# replaces existing value for 'size'\n",
    "# access a list, then append 'Maggie' to it\n",
    "# capitalize names by overwriting them"
   ]
  },
  {
   "cell_type": "code",
   "execution_count": 10,
   "metadata": {
    "collapsed": false
   },
   "outputs": [
    {
     "name": "stdout",
     "output_type": "stream",
     "text": [
      "Marge\n"
     ]
    }
   ],
   "source": [
    "print family['mom']"
   ]
  },
  {
   "cell_type": "code",
   "execution_count": 13,
   "metadata": {
    "collapsed": false
   },
   "outputs": [
    {
     "name": "stdout",
     "output_type": "stream",
     "text": [
      "2\n",
      "5\n"
     ]
    }
   ],
   "source": [
    "print family['size']\n",
    "family['size'] = 5\n",
    "print family['size']"
   ]
  },
  {
   "cell_type": "code",
   "execution_count": 15,
   "metadata": {
    "collapsed": false
   },
   "outputs": [
    {
     "name": "stdout",
     "output_type": "stream",
     "text": [
      "{'dad': 'Homer', 'kids': ['bart', 'lisa', 'Maggie'], 'mom': 'Marge', 'size': 5}\n"
     ]
    }
   ],
   "source": [
    "family['kids'].append('Maggie')\n",
    "print family"
   ]
  },
  {
   "cell_type": "code",
   "execution_count": 16,
   "metadata": {
    "collapsed": false
   },
   "outputs": [
    {
     "name": "stdout",
     "output_type": "stream",
     "text": [
      "{'dad': 'Homer', 'kids': ['Bart', 'Lisa', 'Maggie'], 'mom': 'Marge', 'size': 5}\n"
     ]
    }
   ],
   "source": [
    "family['kids'] = [name[0].upper()+name[1:] for name in family['kids']]\n",
    "print family"
   ]
  },
  {
   "cell_type": "code",
   "execution_count": null,
   "metadata": {
    "collapsed": true
   },
   "outputs": [],
   "source": []
  }
 ],
 "metadata": {
  "kernelspec": {
   "display_name": "Python 2",
   "language": "python",
   "name": "python2"
  },
  "language_info": {
   "codemirror_mode": {
    "name": "ipython",
    "version": 2
   },
   "file_extension": ".py",
   "mimetype": "text/x-python",
   "name": "python",
   "nbconvert_exporter": "python",
   "pygments_lexer": "ipython2",
   "version": "2.7.10"
  }
 },
 "nbformat": 4,
 "nbformat_minor": 0
}
