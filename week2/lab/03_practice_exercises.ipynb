{
 "cells": [
  {
   "cell_type": "code",
   "execution_count": 5,
   "metadata": {
    "collapsed": false
   },
   "outputs": [],
   "source": [
    "#Using list comprehension\n",
    "with open('airlines.csv', mode='rU') as f:\n",
    "    file_list = [row for row in f]\n"
   ]
  },
  {
   "cell_type": "code",
   "execution_count": 6,
   "metadata": {
    "collapsed": true
   },
   "outputs": [],
   "source": [
    "# Using CSV module\n",
    "import csv\n",
    "with open('airlines.csv', mode='rU') as f:\n",
    "    file_nested_list = [row for row in csv.reader(f)]\n",
    "\n",
    "# separate the header and data\n",
    "header = file_nested_list[0]\n",
    "data = file_nested_list[1:]"
   ]
  },
  {
   "cell_type": "code",
   "execution_count": null,
   "metadata": {
    "collapsed": true
   },
   "outputs": [],
   "source": [
    "'''\n",
    "EXERCISES:\n",
    "\n",
    "1. Create a list containing the average number of incidents per year for each airline.\n",
    "Example for Aer Lingus: (2 + 0)/30 = 0.07\n",
    "Expected output: [0.07, 2.73, 0.23, ...]\n",
    "\n",
    "2. Create a list of airline names (without the star).\n",
    "Expected output: ['Aer Lingus', 'Aeroflot', 'Aerolineas Argentinas', ...]\n",
    "\n",
    "3. Create a list (of the same length) that contains 1 if there's a star and 0 if not.\n",
    "Expected output: [0, 1, 0, ...]\n",
    "\n",
    "4. BONUS: Create a dictionary in which the key is the airline name (without the star)\n",
    "   and the value is the average number of incidents.\n",
    "Expected output: {'Aer Lingus': 0.07, 'Aeroflot': 2.73, ...}\n",
    "'''"
   ]
  },
  {
   "cell_type": "code",
   "execution_count": 30,
   "metadata": {
    "collapsed": false
   },
   "outputs": [
    {
     "name": "stdout",
     "output_type": "stream",
     "text": [
      "[0.06666666666666667, 2.7333333333333334, 0.23333333333333334, 0.26666666666666666, 0.13333333333333333, 0.6666666666666666, 0.2, 0.26666666666666666, 0.3333333333333333, 0.36666666666666664, 0.3333333333333333, 1.2666666666666666, 0.06666666666666667, 0.16666666666666666, 0.3333333333333333, 0.06666666666666667, 0.4666666666666667, 0.06666666666666667, 0.1, 1.6, 0.4, 0.06666666666666667, 1.0, 0.03333333333333333, 0.4666666666666667, 0.13333333333333333, 0.03333333333333333, 0.3, 0.1, 0.13333333333333333, 0.26666666666666666, 0.43333333333333335, 0.1, 0.3, 0.2, 0.6, 0.3, 0.2, 0.26666666666666666, 0.36666666666666664, 0.6, 0.13333333333333333, 0.1, 0.3, 0.2, 0.16666666666666666, 0.13333333333333333, 0.5, 0.0, 0.3333333333333333, 0.5333333333333333, 1.1, 0.9, 0.26666666666666666, 0.03333333333333333, 0.36666666666666664]\n"
     ]
    }
   ],
   "source": [
    "print [(int(airline[2])+int(airline[5]))/30.0 for airline in data]"
   ]
  },
  {
   "cell_type": "code",
   "execution_count": 32,
   "metadata": {
    "collapsed": false
   },
   "outputs": [
    {
     "name": "stdout",
     "output_type": "stream",
     "text": [
      "[0.06666666666666667, 2.7333333333333334, 0.23333333333333334, 0.26666666666666666, 0.13333333333333333, 0.6666666666666666, 0.2, 0.26666666666666666, 0.3333333333333333, 0.36666666666666664, 0.3333333333333333, 1.2666666666666666, 0.06666666666666667, 0.16666666666666666, 0.3333333333333333, 0.06666666666666667, 0.4666666666666667, 0.06666666666666667, 0.1, 1.6, 0.4, 0.06666666666666667, 1.0, 0.03333333333333333, 0.4666666666666667, 0.13333333333333333, 0.03333333333333333, 0.3, 0.1, 0.13333333333333333, 0.26666666666666666, 0.43333333333333335, 0.1, 0.3, 0.2, 0.6, 0.3, 0.2, 0.26666666666666666, 0.36666666666666664, 0.6, 0.13333333333333333, 0.1, 0.3, 0.2, 0.16666666666666666, 0.13333333333333333, 0.5, 0.0, 0.3333333333333333, 0.5333333333333333, 1.1, 0.9, 0.26666666666666666, 0.03333333333333333, 0.36666666666666664]\n"
     ]
    }
   ],
   "source": [
    "a_incidence = []\n",
    "for airline in data:\n",
    "    sum1 = int(airline[2]) + int(airline[5])\n",
    "    div1 = 30.00\n",
    "    a_incidence.append(sum1/div1)\n",
    "print a_incidence"
   ]
  },
  {
   "cell_type": "code",
   "execution_count": 27,
   "metadata": {
    "collapsed": false
   },
   "outputs": [
    {
     "name": "stdout",
     "output_type": "stream",
     "text": [
      "['Aer Lingus', 'Aeroflot', 'Aerolineas Argentinas', 'Aeromexico', 'Air Canada', 'Air France', 'Air India', 'Air New Zealand', 'Alaska Airlines', 'Alitalia', 'All Nippon Airways', 'American', 'Austrian Airlines', 'Avianca', 'British Airways', 'Cathay Pacific', 'China Airlines', 'Condor', 'COPA', 'Delta / Northwest', 'Egyptair', 'El Al', 'Ethiopian Airlines', 'Finnair', 'Garuda Indonesia', 'Gulf Air', 'Hawaiian Airlines', 'Iberia', 'Japan Airlines', 'Kenya Airways', 'KLM', 'Korean Air', 'LAN Airlines', 'Lufthansa', 'Malaysia Airlines', 'Pakistan International', 'Philippine Airlines', 'Qantas', 'Royal Air Maroc', 'SAS', 'Saudi Arabian', 'Singapore Airlines', 'South African', 'Southwest Airlines', 'Sri Lankan / AirLanka', 'SWISS', 'TACA', 'TAM', 'TAP - Air Portugal', 'Thai Airways', 'Turkish Airlines', 'United / Continental', 'US Airways / America West', 'Vietnam Airlines', 'Virgin Atlantic', 'Xiamen Airlines']\n"
     ]
    }
   ],
   "source": [
    "airline_names =[]\n",
    "for airline in data:\n",
    "    if airline[0][-1]==\"*\":\n",
    "        airline_names.append(airline[0][:-1])\n",
    "    else:\n",
    "        airline_names.append(airline[0])\n",
    "print airline_names"
   ]
  },
  {
   "cell_type": "code",
   "execution_count": 28,
   "metadata": {
    "collapsed": false
   },
   "outputs": [
    {
     "name": "stdout",
     "output_type": "stream",
     "text": [
      "[0, 1, 0, 1, 0, 0, 1, 1, 1, 0, 0, 1, 0, 0, 1, 1, 0, 0, 0, 1, 0, 0, 0, 0, 0, 0, 0, 0, 0, 0, 1, 0, 0, 1, 0, 0, 0, 1, 0, 1, 0, 0, 0, 0, 0, 1, 0, 0, 0, 0, 0, 1, 1, 0, 0, 0]\n"
     ]
    }
   ],
   "source": [
    "airline_binary=[]\n",
    "for airline in data:\n",
    "    if airline[0][-1]==\"*\":\n",
    "        airline_binary.append(1)\n",
    "    else:\n",
    "        airline_binary.append(0)\n",
    "print airline_binary"
   ]
  },
  {
   "cell_type": "code",
   "execution_count": 35,
   "metadata": {
    "collapsed": false
   },
   "outputs": [
    {
     "data": {
      "text/plain": [
       "{'Aer Lingus': 0.06666666666666667,\n",
       " 'Aeroflot': 2.7333333333333334,\n",
       " 'Aerolineas Argentinas': 0.23333333333333334,\n",
       " 'Aeromexico': 0.26666666666666666,\n",
       " 'Air Canada': 0.13333333333333333,\n",
       " 'Air France': 0.6666666666666666,\n",
       " 'Air India': 0.2,\n",
       " 'Air New Zealand': 0.26666666666666666,\n",
       " 'Alaska Airlines': 0.3333333333333333,\n",
       " 'Alitalia': 0.36666666666666664,\n",
       " 'All Nippon Airways': 0.3333333333333333,\n",
       " 'American': 1.2666666666666666,\n",
       " 'Austrian Airlines': 0.06666666666666667,\n",
       " 'Avianca': 0.16666666666666666,\n",
       " 'British Airways': 0.3333333333333333,\n",
       " 'COPA': 0.1,\n",
       " 'Cathay Pacific': 0.06666666666666667,\n",
       " 'China Airlines': 0.4666666666666667,\n",
       " 'Condor': 0.06666666666666667,\n",
       " 'Delta / Northwest': 1.6,\n",
       " 'Egyptair': 0.4,\n",
       " 'El Al': 0.06666666666666667,\n",
       " 'Ethiopian Airlines': 1.0,\n",
       " 'Finnair': 0.03333333333333333,\n",
       " 'Garuda Indonesia': 0.4666666666666667,\n",
       " 'Gulf Air': 0.13333333333333333,\n",
       " 'Hawaiian Airlines': 0.03333333333333333,\n",
       " 'Iberia': 0.3,\n",
       " 'Japan Airlines': 0.1,\n",
       " 'KLM': 0.26666666666666666,\n",
       " 'Kenya Airways': 0.13333333333333333,\n",
       " 'Korean Air': 0.43333333333333335,\n",
       " 'LAN Airlines': 0.1,\n",
       " 'Lufthansa': 0.3,\n",
       " 'Malaysia Airlines': 0.2,\n",
       " 'Pakistan International': 0.6,\n",
       " 'Philippine Airlines': 0.3,\n",
       " 'Qantas': 0.2,\n",
       " 'Royal Air Maroc': 0.26666666666666666,\n",
       " 'SAS': 0.36666666666666664,\n",
       " 'SWISS': 0.16666666666666666,\n",
       " 'Saudi Arabian': 0.6,\n",
       " 'Singapore Airlines': 0.13333333333333333,\n",
       " 'South African': 0.1,\n",
       " 'Southwest Airlines': 0.3,\n",
       " 'Sri Lankan / AirLanka': 0.2,\n",
       " 'TACA': 0.13333333333333333,\n",
       " 'TAM': 0.5,\n",
       " 'TAP - Air Portugal': 0.0,\n",
       " 'Thai Airways': 0.3333333333333333,\n",
       " 'Turkish Airlines': 0.5333333333333333,\n",
       " 'US Airways / America West': 0.9,\n",
       " 'United / Continental': 1.1,\n",
       " 'Vietnam Airlines': 0.26666666666666666,\n",
       " 'Virgin Atlantic': 0.03333333333333333,\n",
       " 'Xiamen Airlines': 0.36666666666666664}"
      ]
     },
     "execution_count": 35,
     "metadata": {},
     "output_type": "execute_result"
    }
   ],
   "source": [
    "air_dict = dict(zip(airline_names,a_incidence))\n",
    "air_dict"
   ]
  }
 ],
 "metadata": {
  "kernelspec": {
   "display_name": "Python 2",
   "language": "python",
   "name": "python2"
  },
  "language_info": {
   "codemirror_mode": {
    "name": "ipython",
    "version": 2
   },
   "file_extension": ".py",
   "mimetype": "text/x-python",
   "name": "python",
   "nbconvert_exporter": "python",
   "pygments_lexer": "ipython2",
   "version": "2.7.10"
  }
 },
 "nbformat": 4,
 "nbformat_minor": 0
}
